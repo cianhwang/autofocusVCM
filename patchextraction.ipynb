{
 "cells": [
  {
   "cell_type": "code",
   "execution_count": null,
   "metadata": {},
   "outputs": [],
   "source": [
    "import numpy as np\n",
    "import matplotlib.pyplot as plt\n",
    "%matplotlib inline\n",
    "#import tensorflow as tf\n",
    "#import h5py\n",
    "#from scipy import signal\n",
    "#from tensorflow.python.keras.models import load_model\n",
    "#import cv2\n",
    "\n",
    "import matplotlib as mpl\n",
    "import subprocess\n",
    "import skimage\n",
    "import skimage.io as imio\n",
    "import skimage.transform as trans\n",
    "import glob\n",
    "import re\n",
    "from time import gmtime, strftime, sleep\n",
    "from PIL import Image\n",
    "from keras.models import load_model\n",
    "from scipy import signal,misc\n",
    "\n",
    "\n",
    "mpl.rcParams['figure.figsize'] = (32.0, 32.0) "
   ]
  },
  {
   "cell_type": "code",
   "execution_count": null,
   "metadata": {},
   "outputs": [],
   "source": [
    "saliency = load_model('HED4.h5')"
   ]
  },
  {
   "cell_type": "code",
   "execution_count": null,
   "metadata": {},
   "outputs": [],
   "source": [
    "def patchExtraction(sid = 2):\n",
    "    rIm = grabImage(sid = sid)[1]\n",
    "    m, n= rIm.shape\n",
    "    im = rIm/(2**14-1)\n",
    "    img=Image.fromarray(np.uint8(im*255))\n",
    "    img = img.resize((400,300))\n",
    "    inpt = np.array(img)/255\n",
    "    res = saliency.predict(inpt.reshape(1,300,400,1))\n",
    "    res = res.reshape(300,400)\n",
    "    w=np.ones((71,53))\n",
    "    res_new=signal.convolve2d(res,w,mode='same')\n",
    "    pos = np.where(res_new==np.max(res_new))\n",
    "    x = np.round(pos[0]*(m/300))\n",
    "    y = np.round(pos[1]*(n/400))\n",
    "    patch = rIm[int(x)-256:int(x)+256, int(y)-256:int(y)+256]\n",
    "    patch = (patch - patch.min()) / (patch.max() - patch.min())\n",
    "    return patch"
   ]
  }
 ],
 "metadata": {
  "kernelspec": {
   "display_name": "Python 3",
   "language": "python",
   "name": "python3"
  },
  "language_info": {
   "codemirror_mode": {
    "name": "ipython",
    "version": 3
   },
   "file_extension": ".py",
   "mimetype": "text/x-python",
   "name": "python",
   "nbconvert_exporter": "python",
   "pygments_lexer": "ipython3",
   "version": "3.6.7"
  }
 },
 "nbformat": 4,
 "nbformat_minor": 2
}
