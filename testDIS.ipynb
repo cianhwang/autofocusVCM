{
 "cells": [
  {
   "cell_type": "code",
   "execution_count": 7,
   "metadata": {},
   "outputs": [],
   "source": [
    "import numpy as np\n",
    "import matplotlib.pyplot as plt\n",
    "%matplotlib inline\n",
    "import tensorflow as tf\n",
    "import h5py\n",
    "#from scipy import signal\n",
    "from tensorflow.python.keras.models import Model, load_model\n",
    "import cv2\n",
    "from tensorflow.python.keras.layers import Input,Conv2D,Concatenate,Flatten,Dense,LeakyReLU,Dropout, ReLU,Softmax\n",
    "from tensorflow.python.keras.callbacks import TensorBoard,ModelCheckpoint\n",
    "\n",
    "from tensorflow.python.keras.losses import categorical_crossentropy\n",
    "from tensorflow.python.keras import backend as K\n",
    "\n",
    "from tensorflow.python.keras.activations import relu\n",
    "from tensorflow.python.keras.optimizers import Adam\n",
    "from tensorflow.python.keras.utils import to_categorical "
   ]
  },
  {
   "cell_type": "code",
   "execution_count": 8,
   "metadata": {},
   "outputs": [],
   "source": [
    "def patchExtraction(name):\n",
    "    I = cv2.imread(name, 0)\n",
    "    print(I.shape)\n",
    "\n",
    "    m, n= I.shape\n",
    "\n",
    "    patch = I[m//2-256:m//2+256, n//2-256:n//2+256]\n",
    "    patch = (patch - patch.min())/(patch.max() - patch.min())\n",
    "    return patch"
   ]
  },
  {
   "cell_type": "code",
   "execution_count": 9,
   "metadata": {},
   "outputs": [
    {
     "name": "stdout",
     "output_type": "stream",
     "text": [
      "Tensor(\"out_1/Softmax:0\", shape=(?, 2), dtype=float32)\n"
     ]
    }
   ],
   "source": [
    "# In[7]:\n",
    "input_image1 = Input(shape=(512,512,1), name = \"input\")\n",
    "#layer1_1 = Conv2D(4, (8, 8), 8,padding='valid',activation=None,use_bias=False,kernel_initializer = my_init,trainable=True,name='layer1')(input_image1)\n",
    "layer1_1 = Conv2D(1, (8, 8), 8,padding='same',activation=relu, name=\"Conv1_1\")(input_image1)\n",
    "\n",
    "layer2_1 = Conv2D(1, (8, 8), 8,padding='same',activation=relu, name=\"Conv2_1\")(layer1_1)\n",
    "\n",
    "# layer3_1 = Conv2D(32, (3, 3), 2,padding='same',activation=relu, name=\"Conv3_1\")(layer2_1)\n",
    "\n",
    "# layer4_1 = Conv2D(32, (3, 3), 2,padding='same',activation=relu, name=\"Conv4_1\")(layer3_1)\n",
    "\n",
    "flattened = Flatten(name=\"flat\")(layer2_1)\n",
    "\n",
    "dense1 = Dense(10, name=\"d1\")(flattened)\n",
    "Dp1 = Dropout(0.5)(dense1)\n",
    "ReLU1 = ReLU(name=\"lr1\")(Dp1)\n",
    "\n",
    "output_position = Dense(2, activation='softmax', name=\"out\")(ReLU1)\n",
    "\n",
    "print(output_position)\n",
    "\n",
    "discriminator = Model(inputs=input_image1, outputs=output_position)\n",
    "discriminator.load_weights('my_dis_weights_512.h5', by_name=True)"
   ]
  },
  {
   "cell_type": "code",
   "execution_count": 72,
   "metadata": {},
   "outputs": [
    {
     "name": "stdout",
     "output_type": "stream",
     "text": [
      "(2160, 3840)\n"
     ]
    }
   ],
   "source": [
    "patch = patchExtraction('calibrate3/8_600_22097_s00_00000.jpg')"
   ]
  },
  {
   "cell_type": "code",
   "execution_count": 73,
   "metadata": {},
   "outputs": [
    {
     "data": {
      "text/plain": [
       "array([0.55291986, 0.4470801 ], dtype=float32)"
      ]
     },
     "execution_count": 73,
     "metadata": {},
     "output_type": "execute_result"
    }
   ],
   "source": [
    "discriminator.predict(patch[np.newaxis,:,:, np.newaxis])[0]"
   ]
  },
  {
   "cell_type": "code",
   "execution_count": null,
   "metadata": {},
   "outputs": [],
   "source": []
  }
 ],
 "metadata": {
  "kernelspec": {
   "display_name": "Python 3",
   "language": "python",
   "name": "python3"
  },
  "language_info": {
   "codemirror_mode": {
    "name": "ipython",
    "version": 3
   },
   "file_extension": ".py",
   "mimetype": "text/x-python",
   "name": "python",
   "nbconvert_exporter": "python",
   "pygments_lexer": "ipython3",
   "version": "3.6.7"
  }
 },
 "nbformat": 4,
 "nbformat_minor": 2
}
