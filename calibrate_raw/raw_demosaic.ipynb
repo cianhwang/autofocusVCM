{
 "cells": [
  {
   "cell_type": "code",
   "execution_count": 1,
   "metadata": {},
   "outputs": [],
   "source": [
    "import numpy as np\n",
    "import matplotlib.pyplot as plt\n",
    "import matplotlib\n",
    "%matplotlib inline\n",
    "import subprocess\n",
    "import re\n",
    "from scipy import interpolate as interp"
   ]
  },
  {
   "cell_type": "code",
   "execution_count": 2,
   "metadata": {},
   "outputs": [],
   "source": [
    "def demosaic(rawImage):  \n",
    "    red=rawImage[0:2160:2,0:3840:2]\n",
    "    redU=interp.RectBivariateSpline(np.arange(0,1080),np.arange(0,1920),red)\n",
    "    red=redU(np.arange(0,1080,.5),np.arange(0,1920,.5))\n",
    "    blue=rawImage[1:2160:2,1:3840:2]\n",
    "    blueU=interp.RectBivariateSpline(np.arange(0,1080),np.arange(0,1920),blue)\n",
    "    blue=blueU(np.arange(0,1080,.5),np.arange(0,1920,.5))\n",
    "    green=rawImage;\n",
    "    for er in range(0,2159,2):\n",
    "        for odr in range(0,3838,2):\n",
    "            green[er,odr]=np.mean([green[er-1,odr], green[er,odr-1],green[er+1,odr], green[er,odr+1]])\n",
    "    for er in range(1,2159,2):\n",
    "        for odr in range(1,3838,2):\n",
    "            green[er,odr]=np.mean([green[er-1,odr], green[er,odr-1],green[er+1,odr], green[er,odr+1]])\n",
    "    greenU=interp.RectBivariateSpline(np.arange(0,2160),np.arange(0,3838),green[0:2160,0:3838])\n",
    "    green=greenU(np.arange(0,2160,1),np.arange(0,3840,1))\n",
    "    imageOut=np.dstack((red,green,blue))\n",
    "    imageOut=255*imageOut/np.max(imageOut)\n",
    "    imageOut=imageOut.astype(np.uint8)\n",
    "    return imageOut\n",
    "            "
   ]
  },
  {
   "cell_type": "code",
   "execution_count": 5,
   "metadata": {},
   "outputs": [
    {
     "name": "stdout",
     "output_type": "stream",
     "text": [
      "800/800_425.raw\n",
      "i:  800 j:  425\n",
      "800/800_450.raw\n",
      "i:  800 j:  450\n",
      "800/800_475.raw\n",
      "i:  800 j:  475\n",
      "800/800_500.raw\n",
      "i:  800 j:  500\n",
      "800/800_525.raw\n",
      "i:  800 j:  525\n",
      "800/800_550.raw\n",
      "i:  800 j:  550\n",
      "800/800_575.raw\n",
      "i:  800 j:  575\n",
      "800/800_600.raw\n",
      "i:  800 j:  600\n",
      "800/800_625.raw\n",
      "i:  800 j:  625\n",
      "800/800_650.raw\n",
      "i:  800 j:  650\n",
      "800/800_675.raw\n",
      "i:  800 j:  675\n",
      "800/800_700.raw\n",
      "i:  800 j:  700\n",
      "800/800_725.raw\n",
      "i:  800 j:  725\n",
      "800/800_750.raw\n",
      "i:  800 j:  750\n",
      "800/800_775.raw\n",
      "i:  800 j:  775\n",
      "800/800_800.raw\n",
      "i:  800 j:  800\n",
      "800/800_825.raw\n",
      "i:  800 j:  825\n",
      "800/800_850.raw\n",
      "i:  800 j:  850\n",
      "800/800_875.raw\n",
      "i:  800 j:  875\n",
      "800/800_900.raw\n",
      "i:  800 j:  900\n",
      "800/800_925.raw\n",
      "i:  800 j:  925\n",
      "800/800_950.raw\n",
      "i:  800 j:  950\n",
      "800/800_975.raw\n",
      "i:  800 j:  975\n",
      "800/800_1000.raw\n",
      "i:  800 j:  1000\n"
     ]
    }
   ],
   "source": [
    "for i in range(475, 1025, 25):\n",
    "    for j in range(425, 1025, 25):\n",
    "\n",
    "        fileName = str(i)+'/'+str(i)+'_'+str(j)+'.raw'\n",
    "        print(fileName)\n",
    "        try:\n",
    "            rIm=np.fromfile(fileName,dtype=np.dtype('i2'))\n",
    "\n",
    "            print(\"i: \", i, \"j: \", j)\n",
    "            rows=2160\n",
    "            runL=3840\n",
    "            rIm=np.reshape(rIm[:rows*runL],(rows,runL))\n",
    "            rIm = rIm[::-1, ::-1]\n",
    "#             plt.imshow(rIm)\n",
    "#             plt.show()\n",
    "            imgo = demosaic(rIm)\n",
    "            fileName2 = str(i)+'/'+str(i)+'_'+str(j)+'.png'\n",
    "            matplotlib.image.imsave(fileName2, imgo)\n",
    "        except:\n",
    "            print(\"--i: \", i, \"j: \", j)"
   ]
  },
  {
   "cell_type": "code",
   "execution_count": null,
   "metadata": {},
   "outputs": [],
   "source": []
  }
 ],
 "metadata": {
  "kernelspec": {
   "display_name": "Python 3",
   "language": "python",
   "name": "python3"
  },
  "language_info": {
   "codemirror_mode": {
    "name": "ipython",
    "version": 3
   },
   "file_extension": ".py",
   "mimetype": "text/x-python",
   "name": "python",
   "nbconvert_exporter": "python",
   "pygments_lexer": "ipython3",
   "version": "3.6.7"
  }
 },
 "nbformat": 4,
 "nbformat_minor": 2
}
