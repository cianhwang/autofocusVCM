{
 "cells": [
  {
   "cell_type": "code",
   "execution_count": 28,
   "metadata": {},
   "outputs": [
    {
     "name": "stdout",
     "output_type": "stream",
     "text": [
      "475\n",
      "500\n",
      "525\n",
      "550\n",
      "575\n",
      "600\n",
      "625\n",
      "650\n",
      "675\n",
      "700\n",
      "725\n",
      "800\n",
      "825\n",
      "875\n",
      "950\n",
      "1000\n"
     ]
    }
   ],
   "source": [
    "import glob\n",
    "import subprocess\n",
    "for j in range(475, 1025, 25):\n",
    "    links = glob.glob(str(j) + \"/*.raw\")\n",
    "    if links == []:\n",
    "        continue\n",
    "    print(j)\n",
    "    links.sort()\n",
    "\n",
    "\n",
    "    a = list(range(425,1025,25))\n",
    "\n",
    "    for i in range(len(links)):\n",
    "        subprocess.run('cp '+ links[i] + ' '+str(j)+'/'+ str(j) + '_' + str(a[i]) + '.raw', stdout=subprocess.PIPE, shell=True)"
   ]
  },
  {
   "cell_type": "code",
   "execution_count": null,
   "metadata": {},
   "outputs": [],
   "source": []
  }
 ],
 "metadata": {
  "kernelspec": {
   "display_name": "Python 3",
   "language": "python",
   "name": "python3"
  },
  "language_info": {
   "codemirror_mode": {
    "name": "ipython",
    "version": 3
   },
   "file_extension": ".py",
   "mimetype": "text/x-python",
   "name": "python",
   "nbconvert_exporter": "python",
   "pygments_lexer": "ipython3",
   "version": "3.6.7"
  }
 },
 "nbformat": 4,
 "nbformat_minor": 2
}
