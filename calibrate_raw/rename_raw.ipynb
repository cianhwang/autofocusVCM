{
 "cells": [
  {
   "cell_type": "code",
   "execution_count": 4,
   "metadata": {},
   "outputs": [
    {
     "name": "stdout",
     "output_type": "stream",
     "text": [
      "1000\n",
      "['1000/nvcamtest_bayer_0436_00000.raw', '1000/nvcamtest_bayer_0509_00000.raw', '1000/nvcamtest_bayer_0587_00000.raw', '1000/nvcamtest_bayer_0681_00000.raw', '1000/nvcamtest_bayer_0771_00000.raw', '1000/nvcamtest_bayer_0861_00000.raw', '1000/nvcamtest_bayer_0942_00000.raw', '1000/nvcamtest_bayer_1062_00000.raw', '1000/nvcamtest_bayer_1157_00000.raw', '1000/nvcamtest_bayer_1283_00000.raw', '1000/nvcamtest_bayer_1392_00000.raw', '1000/nvcamtest_bayer_1497_00000.raw', '1000/nvcamtest_bayer_1570_00000.raw', '1000/nvcamtest_bayer_1660_00000.raw', '1000/nvcamtest_bayer_1743_00000.raw', '1000/nvcamtest_bayer_1824_00000.raw', '1000/nvcamtest_bayer_1902_00000.raw', '1000/nvcamtest_bayer_1975_00000.raw', '1000/nvcamtest_bayer_2051_00000.raw', '1000/nvcamtest_bayer_2129_00000.raw', '1000/nvcamtest_bayer_2203_00000.raw', '1000/nvcamtest_bayer_2292_00000.raw', '1000/nvcamtest_bayer_2367_00000.raw', '1000/nvcamtest_bayer_2441_00000.raw']\n"
     ]
    }
   ],
   "source": [
    "import glob\n",
    "import subprocess\n",
    "for j in range(475, 1025, 25):\n",
    "    links = glob.glob(str(j) + \"/*.raw\")\n",
    "    if links == []:\n",
    "        continue\n",
    "    print(j)\n",
    "    links.sort()\n",
    "    print(links)\n",
    "\n",
    "\n",
    "    a = list(range(425,1025,25))\n",
    "\n",
    "    for i in range(len(links)):\n",
    "        subprocess.run('cp '+ links[i] + ' '+str(j)+'/'+ str(j) + '_' + str(a[i]) + '.raw', stdout=subprocess.PIPE, shell=True)"
   ]
  },
  {
   "cell_type": "code",
   "execution_count": null,
   "metadata": {},
   "outputs": [],
   "source": []
  }
 ],
 "metadata": {
  "kernelspec": {
   "display_name": "Python 3",
   "language": "python",
   "name": "python3"
  },
  "language_info": {
   "codemirror_mode": {
    "name": "ipython",
    "version": 3
   },
   "file_extension": ".py",
   "mimetype": "text/x-python",
   "name": "python",
   "nbconvert_exporter": "python",
   "pygments_lexer": "ipython3",
   "version": "3.6.7"
  }
 },
 "nbformat": 4,
 "nbformat_minor": 2
}
