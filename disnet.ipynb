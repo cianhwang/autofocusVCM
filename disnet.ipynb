{
 "cells": [
  {
   "cell_type": "code",
   "execution_count": 1,
   "metadata": {},
   "outputs": [],
   "source": [
    "# coding: utf-8\n",
    "\n",
    "# In[1]:\n",
    "\n",
    "import numpy as np\n",
    "#import h5py\n",
    "#import tensorflow as tf\n",
    "#import matplotlib.pyplot as plt\n",
    "import tensorflow as tf\n",
    "import h5py\n",
    "#from scipy import signal\n",
    "from tensorflow.python.keras.layers import Input,Conv2D,Concatenate,Flatten,Dense,LeakyReLU,Dropout, ReLU,Softmax\n",
    "from tensorflow.python.keras.callbacks import TensorBoard,ModelCheckpoint\n",
    "from tensorflow.python.keras.models import Model\n",
    "\n",
    "from tensorflow.python.keras.losses import categorical_crossentropy\n",
    "from tensorflow.python.keras import backend as K\n",
    "\n",
    "from tensorflow.python.keras.activations import relu\n",
    "from tensorflow.python.keras.optimizers import Adam\n",
    "from tensorflow.python.keras.utils import to_categorical\n",
    "import matplotlib.pyplot as plt\n",
    "%matplotlib inline"
   ]
  },
  {
   "cell_type": "code",
   "execution_count": 2,
   "metadata": {},
   "outputs": [],
   "source": [
    "fn = 2\n",
    "d_min = 1\n",
    "d_max = 10\n",
    "blur_filter_size = 11\n",
    "blur_range = 10\n",
    "image_size = 256\n",
    "epochs = 10\n",
    "batch_size = 28"
   ]
  },
  {
   "cell_type": "code",
   "execution_count": 3,
   "metadata": {},
   "outputs": [],
   "source": [
    "train_data_path = 'vcm_data/train_data_one_im_norm_2set_256_vcm_discrinimator.npy'\n",
    "#test_data_path = 'test_data.npy'\n",
    "train_label_path = 'vcm_data/train_label_one_im_norm_2set_256_vcm_discrinimator.npy'\n",
    "#test_label_path = 'test_label.npy'"
   ]
  },
  {
   "cell_type": "code",
   "execution_count": null,
   "metadata": {},
   "outputs": [],
   "source": [
    "train_data = np.load(train_data_path)\n",
    "#test_data = np.load(test_data_path)\n",
    "train_label = np.load(train_label_path)"
   ]
  },
  {
   "cell_type": "code",
   "execution_count": null,
   "metadata": {},
   "outputs": [],
   "source": [
    "print(train_data.shape)\n",
    "print(train_label.shape)"
   ]
  },
  {
   "cell_type": "code",
   "execution_count": null,
   "metadata": {},
   "outputs": [],
   "source": [
    "# In[7]:\n",
    "input_image1 = Input(shape=(256,256,1), name = \"input\")\n",
    "#layer1_1 = Conv2D(4, (8, 8), 8,padding='valid',activation=None,use_bias=False,kernel_initializer = my_init,trainable=True,name='layer1')(input_image1)\n",
    "layer1_1 = Conv2D(16, (8, 8), 8,padding='valid',activation=relu, name=\"Conv1_1\")(input_image1)\n",
    "\n",
    "layer2_1 = Conv2D(32, (8, 8), 8,padding='valid',activation=relu, name=\"Conv2_1\")(layer1_1)\n",
    "\n",
    "flattened = Flatten(name=\"flat\")(layer2_1)\n",
    "dense1 = Dense(10, name=\"d1\")(flattened)\n",
    "ReLU1 = ReLU(name=\"lr1\")(dense1)\n",
    "Dp1 = Dropout(0.5)(ReLU1)\n",
    "\n",
    "output_position = Dense(2, activation='softmax', name=\"out\")(Dp1)\n",
    "\n",
    "print(output_position)\n",
    "\n",
    "model = Model(inputs=input_image1, outputs=output_position)\n",
    "model.summary()\n",
    "\n",
    "\n",
    "print(model.output_shape)"
   ]
  },
  {
   "cell_type": "code",
   "execution_count": null,
   "metadata": {},
   "outputs": [],
   "source": [
    "opt = Adam(lr=0.001, beta_1=0.9, beta_2=0.999, epsilon=None, decay=0.0001)\n",
    "model.compile(loss='mse', optimizer=opt)\n",
    "\n",
    "model.fit(train_data[:,:,:,:1], to_categorical(train_label[:, 2:]), epochs = epochs,batch_size = batch_size,verbose=1)\n",
    "\n",
    "model.save('my_model_dis1.h5')"
   ]
  },
  {
   "cell_type": "code",
   "execution_count": null,
   "metadata": {},
   "outputs": [],
   "source": [
    "model.save_weights('my_dis_weights.h5')"
   ]
  },
  {
   "cell_type": "code",
   "execution_count": null,
   "metadata": {},
   "outputs": [],
   "source": [
    "# print(to_categorical(train_label[:10, 2:]))"
   ]
  },
  {
   "cell_type": "code",
   "execution_count": null,
   "metadata": {},
   "outputs": [],
   "source": [
    "# pred  = model.predict(train_data[:, :, :, :10])"
   ]
  },
  {
   "cell_type": "code",
   "execution_count": null,
   "metadata": {},
   "outputs": [],
   "source": [
    "# idx = 2\n",
    "# plt.imshow(train_data[idx, :, :, 0])\n",
    "\n",
    "# print(train_label[idx, :])\n",
    "# print(pred[idx, :])"
   ]
  },
  {
   "cell_type": "code",
   "execution_count": null,
   "metadata": {},
   "outputs": [],
   "source": []
  }
 ],
 "metadata": {
  "kernelspec": {
   "display_name": "Python 3",
   "language": "python",
   "name": "python3"
  },
  "language_info": {
   "codemirror_mode": {
    "name": "ipython",
    "version": 3
   },
   "file_extension": ".py",
   "mimetype": "text/x-python",
   "name": "python",
   "nbconvert_exporter": "python",
   "pygments_lexer": "ipython3",
   "version": "3.6.7"
  }
 },
 "nbformat": 4,
 "nbformat_minor": 2
}
