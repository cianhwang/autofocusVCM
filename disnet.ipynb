{
 "cells": [
  {
   "cell_type": "code",
   "execution_count": 1,
   "metadata": {},
   "outputs": [],
   "source": [
    "# coding: utf-8\n",
    "\n",
    "# In[1]:\n",
    "\n",
    "import numpy as np\n",
    "#import h5py\n",
    "#import tensorflow as tf\n",
    "#import matplotlib.pyplot as plt\n",
    "import tensorflow as tf\n",
    "import h5py\n",
    "#from scipy import signal\n",
    "from tensorflow.python.keras.layers import Input,Conv2D,Concatenate,Flatten,Dense,LeakyReLU,Dropout, ReLU,Softmax\n",
    "from tensorflow.python.keras.callbacks import TensorBoard,ModelCheckpoint\n",
    "from tensorflow.python.keras.models import Model\n",
    "\n",
    "from tensorflow.python.keras.losses import categorical_crossentropy\n",
    "from tensorflow.python.keras import backend as K\n",
    "\n",
    "from tensorflow.python.keras.activations import relu\n",
    "from tensorflow.python.keras.optimizers import Adam\n",
    "from tensorflow.python.keras.utils import to_categorical\n",
    "import matplotlib.pyplot as plt\n",
    "%matplotlib inline\n",
    "from sklearn.model_selection import train_test_split"
   ]
  },
  {
   "cell_type": "code",
   "execution_count": 2,
   "metadata": {},
   "outputs": [],
   "source": [
    "fn = 2\n",
    "d_min = 1\n",
    "d_max = 10\n",
    "blur_filter_size = 11\n",
    "blur_range = 10\n",
    "image_size = 256\n",
    "epochs = 100\n",
    "batch_size = 28"
   ]
  },
  {
   "cell_type": "code",
   "execution_count": 3,
   "metadata": {},
   "outputs": [],
   "source": [
    "train_data_path = 'vcm_data/train_data_one_im_norm_2set_256_vcm_discrinimator.npy'\n",
    "#test_data_path = 'test_data.npy'\n",
    "train_label_path = 'vcm_data/train_label_one_im_norm_2set_256_vcm_discrinimator.npy'\n",
    "#test_label_path = 'test_label.npy'"
   ]
  },
  {
   "cell_type": "code",
   "execution_count": 4,
   "metadata": {},
   "outputs": [],
   "source": [
    "data = np.load(train_data_path)\n",
    "#test_data = np.load(test_data_path)\n",
    "label = np.load(train_label_path)"
   ]
  },
  {
   "cell_type": "code",
   "execution_count": 5,
   "metadata": {},
   "outputs": [
    {
     "name": "stdout",
     "output_type": "stream",
     "text": [
      "(40000, 256, 256, 1)\n",
      "(40000, 3)\n"
     ]
    }
   ],
   "source": [
    "print(data.shape)\n",
    "print(label.shape)"
   ]
  },
  {
   "cell_type": "code",
   "execution_count": 6,
   "metadata": {},
   "outputs": [],
   "source": [
    "train_data = data\n",
    "train_label = label\n"
   ]
  },
  {
   "cell_type": "code",
   "execution_count": 7,
   "metadata": {},
   "outputs": [],
   "source": [
    "#to_categorical(train_label[:, 2]).shape"
   ]
  },
  {
   "cell_type": "code",
   "execution_count": 8,
   "metadata": {},
   "outputs": [
    {
     "name": "stdout",
     "output_type": "stream",
     "text": [
      "Tensor(\"out/Sigmoid:0\", shape=(?, 1), dtype=float32)\n",
      "_________________________________________________________________\n",
      "Layer (type)                 Output Shape              Param #   \n",
      "=================================================================\n",
      "input (InputLayer)           (None, 256, 256, 1)       0         \n",
      "_________________________________________________________________\n",
      "Conv1_1 (Conv2D)             (None, 32, 32, 4)         260       \n",
      "_________________________________________________________________\n",
      "Conv2_1 (Conv2D)             (None, 4, 4, 8)           2056      \n",
      "_________________________________________________________________\n",
      "flat (Flatten)               (None, 128)               0         \n",
      "_________________________________________________________________\n",
      "dropout (Dropout)            (None, 128)               0         \n",
      "_________________________________________________________________\n",
      "d1 (Dense)                   (None, 10)                1290      \n",
      "_________________________________________________________________\n",
      "out (Dense)                  (None, 1)                 11        \n",
      "=================================================================\n",
      "Total params: 3,617\n",
      "Trainable params: 3,617\n",
      "Non-trainable params: 0\n",
      "_________________________________________________________________\n",
      "(None, 1)\n"
     ]
    }
   ],
   "source": [
    "# In[7]:\n",
    "input_image1 = Input(shape=(256,256,1), name = \"input\")\n",
    "#layer1_1 = Conv2D(4, (8, 8), 8,padding='valid',activation=None,use_bias=False,kernel_initializer = my_init,trainable=True,name='layer1')(input_image1)\n",
    "layer1_1 = Conv2D(4, (8, 8), 8,padding='same',activation=relu, name=\"Conv1_1\")(input_image1)\n",
    "\n",
    "layer2_1 = Conv2D(8, (8, 8), 8,padding='same',activation=relu, name=\"Conv2_1\")(layer1_1)\n",
    "\n",
    "# layer3_1 = Conv2D(32, (3, 3), 2,padding='same',activation=relu, name=\"Conv3_1\")(layer2_1)\n",
    "\n",
    "# layer4_1 = Conv2D(32, (3, 3), 2,padding='same',activation=relu, name=\"Conv4_1\")(layer3_1)\n",
    "\n",
    "flattened = Flatten(name=\"flat\")(layer2_1)\n",
    "Dp1 = Dropout(0.5)(flattened)\n",
    "dense1 = Dense(10, name=\"d1\")(Dp1)\n",
    "#ReLU1 = ReLU(name=\"lr1\")(dense1)\n",
    "\n",
    "output_position = Dense(1, activation='sigmoid', name=\"out\")(dense1)\n",
    "\n",
    "print(output_position)\n",
    "\n",
    "model = Model(inputs=input_image1, outputs=output_position)\n",
    "model.summary()\n",
    "\n",
    "\n",
    "print(model.output_shape)"
   ]
  },
  {
   "cell_type": "code",
   "execution_count": 9,
   "metadata": {},
   "outputs": [
    {
     "name": "stdout",
     "output_type": "stream",
     "text": [
      "Train on 32000 samples, validate on 8000 samples\n",
      "Epoch 1/20\n",
      "32000/32000 [==============================] - 7s 224us/step - loss: 0.3600 - val_loss: 0.5860\n",
      "Epoch 2/20\n",
      "32000/32000 [==============================] - 5s 155us/step - loss: 0.3116 - val_loss: 0.2474\n",
      "Epoch 3/20\n",
      "32000/32000 [==============================] - 5s 159us/step - loss: 0.2496 - val_loss: 0.2980\n",
      "Epoch 4/20\n",
      "32000/32000 [==============================] - 6s 173us/step - loss: 0.3310 - val_loss: 0.5664\n",
      "Epoch 5/20\n",
      "32000/32000 [==============================] - 5s 164us/step - loss: 0.2921 - val_loss: 0.2574\n",
      "Epoch 6/20\n",
      "32000/32000 [==============================] - 5s 161us/step - loss: 0.2630 - val_loss: 0.2463\n",
      "Epoch 7/20\n",
      "32000/32000 [==============================] - 6s 178us/step - loss: 0.2507 - val_loss: 0.2492\n",
      "Epoch 8/20\n",
      "32000/32000 [==============================] - 6s 185us/step - loss: 0.2408 - val_loss: 0.2995\n",
      "Epoch 9/20\n",
      "32000/32000 [==============================] - 5s 165us/step - loss: 0.2202 - val_loss: 0.2081\n",
      "Epoch 10/20\n",
      "32000/32000 [==============================] - 5s 162us/step - loss: 0.2127 - val_loss: 0.4386\n",
      "Epoch 11/20\n",
      "32000/32000 [==============================] - 6s 174us/step - loss: 0.2405 - val_loss: 0.2173\n",
      "Epoch 12/20\n",
      "32000/32000 [==============================] - 6s 180us/step - loss: 0.1828 - val_loss: 0.1598\n",
      "Epoch 13/20\n",
      "32000/32000 [==============================] - 6s 199us/step - loss: 0.1974 - val_loss: 0.1818\n",
      "Epoch 14/20\n",
      "32000/32000 [==============================] - 5s 156us/step - loss: 0.1515 - val_loss: 0.1708\n",
      "Epoch 15/20\n",
      "32000/32000 [==============================] - 6s 181us/step - loss: 0.1436 - val_loss: 0.1513\n",
      "Epoch 16/20\n",
      "32000/32000 [==============================] - 6s 173us/step - loss: 0.1421 - val_loss: 0.1796\n",
      "Epoch 17/20\n",
      "32000/32000 [==============================] - 5s 168us/step - loss: 0.1376 - val_loss: 0.1832\n",
      "Epoch 18/20\n",
      "32000/32000 [==============================] - 5s 157us/step - loss: 0.1319 - val_loss: 0.1329\n",
      "Epoch 19/20\n",
      "32000/32000 [==============================] - 6s 177us/step - loss: 0.1310 - val_loss: 0.1287\n",
      "Epoch 20/20\n",
      "32000/32000 [==============================] - 5s 164us/step - loss: 0.1308 - val_loss: 0.1341\n"
     ]
    },
    {
     "data": {
      "text/plain": [
       "<tensorflow.python.keras.callbacks.History at 0x7f6d1a34deb8>"
      ]
     },
     "execution_count": 9,
     "metadata": {},
     "output_type": "execute_result"
    }
   ],
   "source": [
    "opt = Adam(lr=0.001, beta_1=0.9, beta_2=0.999, epsilon=None, decay=0.0001)\n",
    "model.compile(loss='binary_crossentropy', optimizer=opt)\n",
    "\n",
    "model.fit(train_data, train_label[:, 2:], epochs = 20,batch_size = batch_size,validation_split=0.2, verbose=1)"
   ]
  },
  {
   "cell_type": "code",
   "execution_count": 10,
   "metadata": {},
   "outputs": [],
   "source": [
    "model.save('my_model_dis.h5')\n",
    "\n",
    "model.save_weights('my_dis_weights.h5')"
   ]
  },
  {
   "cell_type": "code",
   "execution_count": 11,
   "metadata": {},
   "outputs": [],
   "source": [
    "# print(to_categorical(train_label[:10, 2:]))"
   ]
  },
  {
   "cell_type": "code",
   "execution_count": 14,
   "metadata": {},
   "outputs": [],
   "source": [
    "pred  = model.predict(train_data[:, :, :, :10])"
   ]
  },
  {
   "cell_type": "code",
   "execution_count": 19,
   "metadata": {},
   "outputs": [
    {
     "name": "stdout",
     "output_type": "stream",
     "text": [
      "[800. 975.   0.]\n",
      "[0.02082265]\n"
     ]
    },
    {
     "data": {
      "image/png": "[encoded data removed]",
      "text/plain": [
       "<Figure size 432x288 with 1 Axes>"
      ]
     },
     "metadata": {
      "needs_background": "light"
     },
     "output_type": "display_data"
    }
   ],
   "source": [
    "idx = 1\n",
    "plt.imshow(train_data[idx, :, :, 0])\n",
    "\n",
    "print(train_label[idx, :])\n",
    "print(pred[idx, :])"
   ]
  },
  {
   "cell_type": "code",
   "execution_count": null,
   "metadata": {},
   "outputs": [],
   "source": []
  }
 ],
 "metadata": {
  "kernelspec": {
   "display_name": "Python 3",
   "language": "python",
   "name": "python3"
  },
  "language_info": {
   "codemirror_mode": {
    "name": "ipython",
    "version": 3
   },
   "file_extension": ".py",
   "mimetype": "text/x-python",
   "name": "python",
   "nbconvert_exporter": "python",
   "pygments_lexer": "ipython3",
   "version": "3.7.2"
  }
 },
 "nbformat": 4,
 "nbformat_minor": 2
}
