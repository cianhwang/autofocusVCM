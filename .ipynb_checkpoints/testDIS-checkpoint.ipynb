{
 "cells": [
  {
   "cell_type": "code",
   "execution_count": 1,
   "metadata": {},
   "outputs": [],
   "source": [
    "import numpy as np\n",
    "import matplotlib.pyplot as plt\n",
    "%matplotlib inline\n",
    "import tensorflow as tf\n",
    "import h5py\n",
    "#from scipy import signal\n",
    "from tensorflow.python.keras.models import Model, load_model\n",
    "import cv2\n",
    "from tensorflow.python.keras.layers import Input,Conv2D,Concatenate,Flatten,Dense,LeakyReLU,Dropout, ReLU,Softmax\n",
    "from tensorflow.python.keras.callbacks import TensorBoard,ModelCheckpoint\n",
    "\n",
    "from tensorflow.python.keras.losses import categorical_crossentropy\n",
    "from tensorflow.python.keras import backend as K\n",
    "\n",
    "from tensorflow.python.keras.activations import relu\n",
    "from tensorflow.python.keras.optimizers import Adam\n",
    "from tensorflow.python.keras.utils import to_categorical "
   ]
  },
  {
   "cell_type": "code",
   "execution_count": 2,
   "metadata": {},
   "outputs": [],
   "source": [
    "def patchExtraction(name):\n",
    "    I = cv2.imread(name)\n",
    "    I = cv2.cvtColor(I, cv2.COLOR_BGR2GRAY)\n",
    "    print(I.shape)\n",
    "\n",
    "    m, n= I.shape\n",
    "\n",
    "    patch = I[m//2-128:m//2+128, n//2-128:n//2+128]\n",
    "    return patch"
   ]
  },
  {
   "cell_type": "code",
   "execution_count": 3,
   "metadata": {},
   "outputs": [],
   "source": [
    "input_image1 = Input(shape=(256,256,1), name = \"input\")\n",
    "#layer1_1 = Conv2D(4, (8, 8), 8,padding='valid',activation=None,use_bias=False,kernel_initializer = my_init,trainable=True,name='layer1')(input_image1)\n",
    "layer1_1 = Conv2D(1, (8, 8), 4,padding='valid',activation=relu, name=\"Conv1_1\")(input_image1)\n",
    "\n",
    "layer2_1 = Conv2D(1, (8, 8), 4,padding='valid',activation=relu, name=\"Conv2_1\")(layer1_1)\n",
    "\n",
    "flattened = Flatten(name=\"flat\")(layer2_1)\n",
    "dense1 = Dense(10, name=\"d1\")(flattened)\n",
    "ReLU1 = ReLU(name=\"lr1\")(dense1)\n",
    "Dp1 = Dropout(0.5)(ReLU1)\n",
    "\n",
    "output_position = Dense(2, activation='softmax', name=\"out\")(Dp1)\n",
    "\n",
    "discriminator = Model(inputs=input_image1, outputs=output_position)\n",
    "discriminator.load_weights('my_model_weights.h5', by_name=True)"
   ]
  },
  {
   "cell_type": "code",
   "execution_count": 24,
   "metadata": {},
   "outputs": [
    {
     "name": "stdout",
     "output_type": "stream",
     "text": [
      "(2160, 3840)\n"
     ]
    }
   ],
   "source": [
    "patch = patchExtraction('calibrate3/11_750_27913_s00_00000.jpg')"
   ]
  },
  {
   "cell_type": "code",
   "execution_count": 25,
   "metadata": {},
   "outputs": [
    {
     "data": {
      "text/plain": [
       "array([0.6434753 , 0.35652468], dtype=float32)"
      ]
     },
     "execution_count": 25,
     "metadata": {},
     "output_type": "execute_result"
    }
   ],
   "source": [
    "discriminator.predict(patch[np.newaxis,:,:, np.newaxis])[0]"
   ]
  },
  {
   "cell_type": "code",
   "execution_count": null,
   "metadata": {},
   "outputs": [],
   "source": []
  }
 ],
 "metadata": {
  "kernelspec": {
   "display_name": "Python 3",
   "language": "python",
   "name": "python3"
  },
  "language_info": {
   "codemirror_mode": {
    "name": "ipython",
    "version": 3
   },
   "file_extension": ".py",
   "mimetype": "text/x-python",
   "name": "python",
   "nbconvert_exporter": "python",
   "pygments_lexer": "ipython3",
   "version": "3.6.7"
  }
 },
 "nbformat": 4,
 "nbformat_minor": 2
}
