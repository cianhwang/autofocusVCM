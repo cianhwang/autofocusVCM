{
 "cells": [
  {
   "cell_type": "code",
   "execution_count": 1,
   "metadata": {},
   "outputs": [
    {
     "name": "stderr",
     "output_type": "stream",
     "text": [
      "Using TensorFlow backend.\n"
     ]
    }
   ],
   "source": [
    "# coding: utf-8\n",
    "\n",
    "# In[1]:\n",
    "\n",
    "import numpy as np\n",
    "#import h5py\n",
    "#import tensorflow as tf\n",
    "#import matplotlib.pyplot as plt\n",
    "import tensorflow as tf\n",
    "import h5py\n",
    "#from scipy import signal\n",
    "from tensorflow.python.keras.layers import Input,Conv2D,Concatenate,Flatten,Dense,LeakyReLU,Dropout, ReLU,Softmax\n",
    "from tensorflow.python.keras.callbacks import TensorBoard,ModelCheckpoint\n",
    "from tensorflow.python.keras.models import Model\n",
    "\n",
    "from tensorflow.python.keras.losses import categorical_crossentropy\n",
    "from tensorflow.python.keras import backend as K\n",
    "\n",
    "from tensorflow.python.keras.activations import relu\n",
    "from tensorflow.python.keras.optimizers import Adam\n",
    "from tensorflow.python.keras.utils import to_categorical\n",
    "\n",
    "from sklearn.model_selection import train_test_split\n",
    "\n",
    "from keras.backend.tensorflow_backend import set_session\n",
    "config = tf.ConfigProto()\n",
    "config.gpu_options.per_process_gpu_memory_fraction = 0.4\n",
    "set_session(tf.Session(config=config))"
   ]
  },
  {
   "cell_type": "code",
   "execution_count": 2,
   "metadata": {},
   "outputs": [],
   "source": [
    "fn = 2\n",
    "d_min = 1\n",
    "d_max = 10\n",
    "blur_filter_size = 11\n",
    "blur_range = 10\n",
    "image_size = 512\n",
    "epochs = 300\n",
    "batch_size = 28"
   ]
  },
  {
   "cell_type": "code",
   "execution_count": 3,
   "metadata": {},
   "outputs": [],
   "source": [
    "train_data_path = 'train_data_uint8_512_vcm_discrinimator.npy'\n",
    "test_data_path = 'real_data_uint8_512_vcm_10000.npy'\n",
    "train_label_path = 'train_label_uint8_512_vcm_discrinimator.npy'\n",
    "test_label_path = 'real_label_uint8_512_vcm_10000.npy'"
   ]
  },
  {
   "cell_type": "code",
   "execution_count": 4,
   "metadata": {},
   "outputs": [],
   "source": [
    "train_data = np.load(train_data_path)\n",
    "test_data = np.load(test_data_path)\n",
    "train_label = np.load(train_label_path)\n",
    "test_label = np.load(test_label_path)\n",
    "test_label = (abs(test_label[:, 0] - test_label[:, 1]) <= 33)"
   ]
  },
  {
   "cell_type": "code",
   "execution_count": 5,
   "metadata": {},
   "outputs": [],
   "source": [
    "# train_data = data[:10000, :, :, :]\n",
    "# train_label = label[:10000, :]\n"
   ]
  },
  {
   "cell_type": "code",
   "execution_count": 6,
   "metadata": {},
   "outputs": [],
   "source": [
    "# #to_categorical(train_label[:, 2]).shape\n",
    "# import matplotlib.pyplot as plt\n",
    "# %matplotlib inline\n",
    "# idx = 7\n",
    "# plt.imshow(train_data[idx, :, :, 0])\n",
    "\n",
    "# print(train_label[idx, :])"
   ]
  },
  {
   "cell_type": "code",
   "execution_count": 7,
   "metadata": {},
   "outputs": [],
   "source": [
    "# plt.imshow(test_data[idx, :, :, 0])\n",
    "\n",
    "# print(test_label[idx])"
   ]
  },
  {
   "cell_type": "code",
   "execution_count": 8,
   "metadata": {},
   "outputs": [
    {
     "name": "stdout",
     "output_type": "stream",
     "text": [
      "Tensor(\"out/Softmax:0\", shape=(?, 2), dtype=float32)\n",
      "_________________________________________________________________\n",
      "Layer (type)                 Output Shape              Param #   \n",
      "=================================================================\n",
      "input (InputLayer)           (None, 512, 512, 1)       0         \n",
      "_________________________________________________________________\n",
      "Conv1_1 (Conv2D)             (None, 64, 64, 1)         65        \n",
      "_________________________________________________________________\n",
      "Conv2_1 (Conv2D)             (None, 8, 8, 1)           65        \n",
      "_________________________________________________________________\n",
      "flat (Flatten)               (None, 64)                0         \n",
      "_________________________________________________________________\n",
      "d1 (Dense)                   (None, 10)                650       \n",
      "_________________________________________________________________\n",
      "dropout (Dropout)            (None, 10)                0         \n",
      "_________________________________________________________________\n",
      "lr1 (ReLU)                   (None, 10)                0         \n",
      "_________________________________________________________________\n",
      "out (Dense)                  (None, 2)                 22        \n",
      "=================================================================\n",
      "Total params: 802\n",
      "Trainable params: 802\n",
      "Non-trainable params: 0\n",
      "_________________________________________________________________\n",
      "(None, 2)\n"
     ]
    }
   ],
   "source": [
    "# In[7]:\n",
    "input_image1 = Input(shape=(512,512,1), name = \"input\")\n",
    "#layer1_1 = Conv2D(4, (8, 8), 8,padding='valid',activation=None,use_bias=False,kernel_initializer = my_init,trainable=True,name='layer1')(input_image1)\n",
    "layer1_1 = Conv2D(1, (8, 8), 8,padding='same',activation=relu, name=\"Conv1_1\")(input_image1)\n",
    "\n",
    "layer2_1 = Conv2D(1, (8, 8), 8,padding='same',activation=relu, name=\"Conv2_1\")(layer1_1)\n",
    "\n",
    "# layer3_1 = Conv2D(32, (3, 3), 2,padding='same',activation=relu, name=\"Conv3_1\")(layer2_1)\n",
    "\n",
    "# layer4_1 = Conv2D(32, (3, 3), 2,padding='same',activation=relu, name=\"Conv4_1\")(layer3_1)\n",
    "\n",
    "flattened = Flatten(name=\"flat\")(layer2_1)\n",
    "\n",
    "dense1 = Dense(10, name=\"d1\")(flattened)\n",
    "Dp1 = Dropout(0.5)(dense1)\n",
    "ReLU1 = ReLU(name=\"lr1\")(Dp1)\n",
    "\n",
    "output_position = Dense(2, activation='softmax', name=\"out\")(ReLU1)\n",
    "\n",
    "print(output_position)\n",
    "\n",
    "model = Model(inputs=input_image1, outputs=output_position)\n",
    "model.summary()\n",
    "\n",
    "tcbc = TensorBoard(log_dir='1')\n",
    "\n",
    "filepath=\"models/dis_train_on_generate/weights-{epoch:03d}-{val_loss:.2f}.h5\"\n",
    "checkpoint = ModelCheckpoint(filepath, monitor='val_loss', verbose=1, save_best_only=False, save_weights_only=True,mode='max',period=2)\n",
    "\n",
    "\n",
    "print(model.output_shape)"
   ]
  },
  {
   "cell_type": "code",
   "execution_count": 9,
   "metadata": {},
   "outputs": [],
   "source": [
    "def data_gen(features, labels, batch_size):\n",
    "    while True:\n",
    "        for i in np.arange(0, features.shape[0] - batch_size, batch_size):\n",
    "            # choose random index in features\n",
    "            batch_features = features[i:i+batch_size, :, :, :].astype('float16')/255.0\n",
    "            batch_labels = labels[i:i+batch_size, :]\n",
    "            yield (batch_features, batch_labels)"
   ]
  },
  {
   "cell_type": "code",
   "execution_count": 10,
   "metadata": {},
   "outputs": [
    {
     "name": "stdout",
     "output_type": "stream",
     "text": [
      "Epoch 1/5\n",
      "358/357 [==============================] - 32s 88ms/step - loss: 0.6867 - val_loss: 0.6782\n",
      "Epoch 2/5\n",
      "357/357 [============================>.] - ETA: 0s - loss: 0.6806\n",
      "Epoch 00002: saving model to models/dis_train_on_generate/weights-002-0.68.h5\n",
      "358/357 [==============================] - 30s 85ms/step - loss: 0.6806 - val_loss: 0.6757\n",
      "Epoch 3/5\n",
      "358/357 [==============================] - 30s 85ms/step - loss: 0.6756 - val_loss: 0.6723\n",
      "Epoch 4/5\n",
      "357/357 [============================>.] - ETA: 0s - loss: 0.6708\n",
      "Epoch 00004: saving model to models/dis_train_on_generate/weights-004-0.67.h5\n",
      "358/357 [==============================] - 30s 85ms/step - loss: 0.6708 - val_loss: 0.6698\n",
      "Epoch 5/5\n",
      "358/357 [==============================] - 30s 85ms/step - loss: 0.6667 - val_loss: 0.6659\n"
     ]
    },
    {
     "data": {
      "text/plain": [
       "<tensorflow.python.keras.callbacks.History at 0x7ffa100e64e0>"
      ]
     },
     "execution_count": 10,
     "metadata": {},
     "output_type": "execute_result"
    }
   ],
   "source": [
    "opt = Adam(lr=0.001, beta_1=0.9, beta_2=0.999, epsilon=None, decay=0.0001)\n",
    "model.compile(loss='binary_crossentropy', optimizer=opt)\n",
    "\n",
    "# model.fit(train_data[:,:,:,0:1].astype('float16')/255.0, to_categorical(train_label[:, 2:]), \n",
    "#           epochs = 100,batch_size = batch_size,\n",
    "#           validation_data=(test_data[:,:,:,0:1].astype('float16')/255.0, to_categorical(test_label)), \n",
    "#           verbose=1, callbacks = [tcbc, checkpoint])\n",
    "model.fit_generator(data_gen(train_data, to_categorical(train_label[:, 2:]), batch_size), \n",
    "                    steps_per_epoch = train_data.shape[0]/batch_size, epochs = epochs,\n",
    "                    validation_data=data_gen(test_data, to_categorical(test_label), batch_size), \n",
    "                    validation_steps = batch_size,\n",
    "                    verbose=1, callbacks = [tcbc, checkpoint])"
   ]
  },
  {
   "cell_type": "code",
   "execution_count": 11,
   "metadata": {},
   "outputs": [],
   "source": [
    "# model.save('my_model_dis_512.h5')\n",
    "\n",
    "# model.save_weights('my_dis_weights_512.h5')\n",
    "# # model.load_weights('my_dis_weights_512.h5')"
   ]
  },
  {
   "cell_type": "code",
   "execution_count": 12,
   "metadata": {},
   "outputs": [],
   "source": [
    "# print(to_categorical(train_label[:10, 2:]))"
   ]
  },
  {
   "cell_type": "code",
   "execution_count": 13,
   "metadata": {},
   "outputs": [],
   "source": [
    "# pred  = model.predict(train_data[:, :, :, :50])"
   ]
  },
  {
   "cell_type": "code",
   "execution_count": 14,
   "metadata": {},
   "outputs": [],
   "source": [
    "# idx = 25\n",
    "# plt.imshow(train_data[idx, :, :, 0])\n",
    "\n",
    "# print(train_label[idx, :])\n",
    "# print(pred[idx, :])"
   ]
  }
 ],
 "metadata": {
  "kernelspec": {
   "display_name": "Python 3",
   "language": "python",
   "name": "python3"
  },
  "language_info": {
   "codemirror_mode": {
    "name": "ipython",
    "version": 3
   },
   "file_extension": ".py",
   "mimetype": "text/x-python",
   "name": "python",
   "nbconvert_exporter": "python",
   "pygments_lexer": "ipython3",
   "version": "3.6.7"
  }
 },
 "nbformat": 4,
 "nbformat_minor": 2
}
