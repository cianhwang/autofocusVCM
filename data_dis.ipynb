{
 "cells": [
  {
   "cell_type": "code",
   "execution_count": 1,
   "metadata": {},
   "outputs": [],
   "source": [
    "import numpy as np\n",
    "#import matplotlib.pyplot as plt\n",
    "import scipy.io,scipy.misc\n",
    "import os\n",
    "import skimage.transform\n",
    "import random\n",
    "import cv2\n",
    "from scipy import signal\n",
    "\n",
    "import matplotlib.pyplot as plt\n",
    "%matplotlib inline"
   ]
  },
  {
   "cell_type": "code",
   "execution_count": 2,
   "metadata": {},
   "outputs": [],
   "source": [
    "#import os\n",
    "#import os.path\n",
    "File_names = []\n",
    "for dirpath, dirnames, filenames in os.walk(\"/home/qian/Downloads/high_res_img/\"): #############\n",
    "    for filename in filenames:\n",
    "        File_names.append(os.path.join(dirpath, filename))\n",
    "    \n",
    "img_file_names = []\n",
    "\n",
    "# In[3]:"
   ]
  },
  {
   "cell_type": "code",
   "execution_count": 3,
   "metadata": {},
   "outputs": [
    {
     "name": "stdout",
     "output_type": "stream",
     "text": [
      "5004\n"
     ]
    }
   ],
   "source": [
    "image_size1 = 256\n",
    "image_size2 = 256\n",
    "Num_of_data = 20###########################################\n",
    "\n",
    "print(len(File_names))"
   ]
  },
  {
   "cell_type": "code",
   "execution_count": 4,
   "metadata": {},
   "outputs": [
    {
     "name": "stdout",
     "output_type": "stream",
     "text": [
      "Data_space size: 22\n"
     ]
    }
   ],
   "source": [
    "# In[5]:\n",
    "\n",
    "\n",
    "DATA = np.zeros([Num_of_data,image_size1,image_size2,1],np.float32)\n",
    "Label = np.zeros([Num_of_data,3],np.float32)\n",
    "\n",
    "\n",
    "# In[6]:\n",
    "\n",
    "\n",
    "Ground_truth_space = [475, 500, 525, 550, 600, 650, 675, 725, 800, 875, 1000]\n",
    "Data_space = list(range(1000, 450, -25))\n",
    "Data_space = Data_space[::-1]\n",
    "print(\"Data_space size:\", len(Data_space))\n",
    "#print Data_space\n",
    "\n",
    "\n",
    "# In[7]:"
   ]
  },
  {
   "cell_type": "code",
   "execution_count": 5,
   "metadata": {},
   "outputs": [],
   "source": [
    "def noisy(noise_typ,image):\n",
    "    if noise_typ == \"gauss\":\n",
    "        row,col= image.shape\n",
    "        mean = 0\n",
    "        var = 0.00\n",
    "        sigma = var**0.5\n",
    "        gauss = np.random.normal(mean,sigma,(row,col))\n",
    "        gauss = gauss.reshape(row,col)\n",
    "        noisy = image + abs(gauss)\n",
    "        return noisy\n",
    "    elif noise_typ == \"poisson\":\n",
    "        image = np.maximum(image,0)\n",
    "        vals = len(np.unique(image))\n",
    "        vals = 2 ** np.ceil(np.log2(vals))\n",
    "        noisy = np.random.poisson(image*255) / float(255) + image\n",
    "        return noisy\n",
    "    elif noise_typ ==\"speckle\":\n",
    "        row,col,ch = image.shape\n",
    "        gauss = np.random.randn(row,col,ch)\n",
    "        gauss = gauss.reshape(row,col,ch)        \n",
    "        noisy = image + image * gauss\n",
    "        return noisy\n",
    "    elif noise_typ ==\"None\":\n",
    "        return image\n",
    "\n",
    "\n",
    "# In[8]:"
   ]
  },
  {
   "cell_type": "code",
   "execution_count": 6,
   "metadata": {},
   "outputs": [],
   "source": [
    "def Defocus(input_image, filter_size, scale):\n",
    "    input_image = np.power(input_image,2.2)\n",
    "    #print filter_size\n",
    "    #print 'filters/{}.mat'.format(int(filter_size))\n",
    "    #print('filters/{}.mat'.format(int(filter_size)))\n",
    "    a = scipy.io.loadmat('filters/{}.mat'.format(int(filter_size)))\n",
    "    h = a['h']\n",
    "    pip = signal.convolve(input_image, h, mode='full', method='auto');\n",
    "    pip2 = skimage.transform.rescale(pip, scale)\n",
    "    M = pip2.shape[0]//2\n",
    "    N = pip2.shape[1]//2\n",
    "    #plt.imshow(pip2)\n",
    "    #plt.show()\n",
    "\n",
    "    #idx1 = random.randint(-200,200)\n",
    "    #idx2 = random.randint(-200,200)\n",
    "    idx1 = 0\n",
    "    idx2 = 0\n",
    "\n",
    "   # print(\"M: {}, N: {}, imagesize1: {}, imagesize2: {}\".format(M, N, image_size1, image_size2))\n",
    "  #  print(\"pip2 shape: \", pip2.shape)\n",
    " #   print(\"scale = {}\".format(scale))\n",
    "    #print(\"a:{} b:{} c:{} d:{}\".format((M-image_size1/2+idx1),(M+image_size1/2+idx1),(N-image_size2/2+idx2),(N+image_size2/2+idx2)))\n",
    "    crop = np.maximum(0,pip2[(M-image_size1//2+idx1):(M+image_size1//2+idx1),(N-image_size2//2+idx2):(N+image_size2//2+idx2)])\n",
    "    crop_noise = np.power(crop,1/2.2)#noisy(\"gauss\",crop)\n",
    "    #plt.imshow(crop)\n",
    "    #plt.show()\n",
    "    crop_noise = (crop_noise - crop_noise.min()) / (crop_noise.max()-crop_noise.min())\n",
    "    return crop_noise"
   ]
  },
  {
   "cell_type": "code",
   "execution_count": 7,
   "metadata": {},
   "outputs": [],
   "source": [
    "# In[9]:\n",
    "\n",
    "\n",
    "def Data_aug(im):\n",
    "    k = 180\n",
    "    caseidx = random.randint(1,4)\n",
    "    if caseidx == 1:\n",
    "        return im[im.shape[0]//2-k:im.shape[0]//2+k,im.shape[1]//2-k:im.shape[1]//2+k]\n",
    "#     elif caseidx == 2:\n",
    "#         return np.rot90(im)\n",
    "    elif caseidx == 2:\n",
    "        return np.rot90(np.rot90(im[im.shape[0]//2-k:im.shape[0]//2+k,im.shape[1]//2-k:im.shape[1]//2+k]))\n",
    "#     elif caseidx == 4:\n",
    "#         return np.rot90(np.rot90(np.rot90(im)))\n",
    "    elif caseidx == 3:\n",
    "        return np.flip(im[im.shape[0]//2-k:im.shape[0]//2+k,im.shape[1]//2-k:im.shape[1]//2+k],1)\n",
    "#     elif caseidx == 6:\n",
    "#         return np.rot90(np.flip(im,1))\n",
    "    elif caseidx == 4:\n",
    "        return np.rot90(np.rot90(np.flip(im[im.shape[0]//2-k:im.shape[0]//2+k,im.shape[1]//2-k:im.shape[1]//2+k],1)))\n",
    "#     elif caseidx == 8:\n",
    "#         return np.rot90(np.rot90(np.rot90(np.flip(im,1))))"
   ]
  },
  {
   "cell_type": "code",
   "execution_count": 8,
   "metadata": {},
   "outputs": [
    {
     "name": "stdout",
     "output_type": "stream",
     "text": [
      "0\n"
     ]
    },
    {
     "name": "stderr",
     "output_type": "stream",
     "text": [
      "/home/qian/anaconda3/envs/tensorflow/lib/python3.6/site-packages/skimage/transform/_warps.py:24: UserWarning: The default multichannel argument (None) is deprecated.  Please specify either True or False explicitly.  multichannel will default to False starting with release 0.16.\n",
      "  warn('The default multichannel argument (None) is deprecated.  Please '\n",
      "/home/qian/anaconda3/envs/tensorflow/lib/python3.6/site-packages/skimage/transform/_warps.py:105: UserWarning: The default mode, 'constant', will be changed to 'reflect' in skimage 0.15.\n",
      "  warn(\"The default mode, 'constant', will be changed to 'reflect' in \"\n",
      "/home/qian/anaconda3/envs/tensorflow/lib/python3.6/site-packages/skimage/transform/_warps.py:110: UserWarning: Anti-aliasing will be enabled by default in skimage 0.15 to avoid aliasing artifacts when down-sampling images.\n",
      "  warn(\"Anti-aliasing will be enabled by default in skimage 0.15 to \"\n"
     ]
    },
    {
     "name": "stdout",
     "output_type": "stream",
     "text": [
      "1\n",
      "2\n",
      "3\n",
      "4\n",
      "5\n",
      "6\n",
      "7\n",
      "8\n",
      "9\n"
     ]
    }
   ],
   "source": [
    "## one image\n",
    "for i in range(Num_of_data//2):\n",
    "    print(i)\n",
    "    ## Load an image and convert it to grayscale\n",
    "    idx = random.randint(0,len(File_names)-1)\n",
    "    img = cv2.imread(File_names[idx],0)\n",
    "    img_file_names.append(File_names[idx])\n",
    "    while True:\n",
    "        if (img is not None) and (min(img.shape[0]-360,img.shape[1]-360) > 0):\n",
    "            break\n",
    "        idx = random.randint(0,len(File_names)-1)\n",
    "        img = cv2.imread(File_names[idx],0)\n",
    "        img_file_names[i] = File_names[idx]\n",
    "    \n",
    "    Focused_image = Data_aug(img)\n",
    "    if Focused_image.max()>1:\n",
    "        Focused_image = Focused_image/255.0\n",
    "    #plt.imshow(Focused_image)\n",
    "    #plt.show()\n",
    "    ## Generate the statistics\n",
    "    \n",
    "    current_position = random.choice(Ground_truth_space)\n",
    "    current_data_space = list(set(Data_space).difference(set([current_position])))\n",
    "    defocus1 = random.choice(current_data_space)\n",
    "    DATA[2*i,:,:,0] = Focused_image[Focused_image.shape[0]//2-image_size1//2:Focused_image.shape[0]//2+image_size1//2,Focused_image.shape[1]//2-image_size2//2:Focused_image.shape[1]//2+image_size2//2]\n",
    "    DATA[2*i,:,:,0] = (DATA[2*i,:,:,0] - DATA[2*i,:,:,0].min())/(DATA[2*i,:,:,0].max() - DATA[2*i,:,:,0].min())\n",
    "    Label[2*i,0] = current_position\n",
    "    Label[2*i,1] = current_position\n",
    "    Label[2*i,2] = 1\n",
    "    \n",
    "    \n",
    "    model_mat = scipy.io.loadmat('vcm_models/n_Model_parameters_{}.mat'.format(current_position))  ###########################\n",
    "        #print(model_mat.keys())\n",
    "    Model_parameters = model_mat['Model_parameters']\n",
    "#         print(s\"defocus1 = {}, current pos = {}\".format(defocus1, current_position))\n",
    "#         print(\"focus img shape\", Focused_image.shape)\n",
    "#         print(Model_parameters[10, :])\n",
    "        \n",
    "    DATA[2*i+1,:,:,0] = Defocus(Focused_image,Model_parameters[Data_space.index(defocus1),2],Model_parameters[Data_space.index(defocus1),3])\n",
    "    Label[2*i+1,0] = current_position\n",
    "    Label[2*i+1,1] = defocus1\n",
    "    if abs(defocus1-current_position)<26:\n",
    "        Label[2*i+1,2] = 1\n",
    "    else:\n",
    "        Label[2*i+1,2] = 0\n",
    "\n",
    "\n",
    "np.save('vcm_data/train_data_one_im_norm_2set_256_vcm_discrinimator',DATA)    ##################################\n",
    "np.save('vcm_data/train_label_one_im_norm_2set_256_vcm_discrinimator',Label)  ##################################\n"
   ]
  },
  {
   "cell_type": "code",
   "execution_count": 10,
   "metadata": {},
   "outputs": [
    {
     "name": "stdout",
     "output_type": "stream",
     "text": [
      "[500. 850.   0.]\n"
     ]
    },
    {
     "data": {
      "image/png": "[encoded data removed]",
      "text/plain": [
       "<Figure size 432x288 with 1 Axes>"
      ]
     },
     "metadata": {
      "needs_background": "light"
     },
     "output_type": "display_data"
    }
   ],
   "source": [
    "plt.imshow(DATA[5, :, :, 0])\n",
    "\n",
    "print(Label[5, :])"
   ]
  },
  {
   "cell_type": "code",
   "execution_count": null,
   "metadata": {},
   "outputs": [],
   "source": []
  }
 ],
 "metadata": {
  "kernelspec": {
   "display_name": "Python 3",
   "language": "python",
   "name": "python3"
  },
  "language_info": {
   "codemirror_mode": {
    "name": "ipython",
    "version": 3
   },
   "file_extension": ".py",
   "mimetype": "text/x-python",
   "name": "python",
   "nbconvert_exporter": "python",
   "pygments_lexer": "ipython3",
   "version": "3.6.7"
  }
 },
 "nbformat": 4,
 "nbformat_minor": 2
}
